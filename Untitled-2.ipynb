{
 "cells": [
  {
   "cell_type": "markdown",
   "id": "566f15dd-7cfc-438a-b6fa-bd55de653df9",
   "metadata": {},
   "source": [
    "Q1"
   ]
  },
  {
   "cell_type": "markdown",
   "id": "8f6b588e-1452-4435-bab0-0313a5a06625",
   "metadata": {},
   "source": [
    "The probability density function (PDF) is a function that describes the relative likelihood for a random variable to take on a given value. The PDF is used to describe the probability distribution of a continuous random variable, such as height or weight, where there is an infinite number of possible values that the random variable can take.\n",
    "\n",
    "The PDF is defined such that the integral of the function over a range of values gives the probability that the random variable falls within that range. Specifically, the probability that a random variable X falls within the interval [a, b] is given by the integral of the PDF from a to b:\n",
    "\n",
    "P(a ≤ X ≤ b) = ∫(a to b) f(x) dx\n",
    "\n",
    "where f(x) is the PDF of X.\n",
    "\n",
    "The PDF is also used to calculate other important statistics of the probability distribution, such as the mean and variance. The mean of a continuous random variable is given by:\n",
    "\n",
    "E(X) = ∫(-∞ to ∞) x f(x) dx\n",
    "\n",
    "and the variance is given by:\n",
    "\n",
    "Var(X) = E((X - μ)^2) = ∫(-∞ to ∞) (x - μ)^2 f(x) dx\n",
    "\n",
    "where μ is the mean of the distribution.\n",
    "\n",
    "The shape of the PDF can be used to provide insights into the behavior of the random variable. For example, a symmetric PDF indicates that the probability is equally distributed around the mean, while a skewed PDF indicates that the probability is distributed unevenly around the mean.\n",
    "\n",
    "\n"
   ]
  },
  {
   "cell_type": "markdown",
   "id": "cecca981-3ea4-4a24-aa24-0ff9eaccee19",
   "metadata": {},
   "source": [
    "Q2"
   ]
  },
  {
   "cell_type": "markdown",
   "id": "c49554dd-3bac-4cf8-83a4-b3951e247215",
   "metadata": {},
   "source": [
    "There are many different types of probability distributions. Some of the most common ones include:\n",
    "\n",
    "Bernoulli distribution: This is a probability distribution for a single binary outcome, such as success or failure. It has only two possible outcomes and is often used in experiments where there is a binary outcome.\n",
    "Binomial distribution: This is a probability distribution for a fixed number of independent Bernoulli trials. It is often used in experiments where there are multiple trials and each trial has a binary outcome.\n",
    "Normal distribution: This is a continuous probability distribution that is often used to model real-world phenomena. It is symmetric and bell-shaped, with a mean and standard deviation that describe the distribution.\n",
    "Poisson distribution: This is a probability distribution that models the number of events that occur in a fixed period of time, space or volume. It is often used to model rare events, such as accidents, failures, or defects.\n",
    "Exponential distribution: This is a probability distribution that models the time between events in a Poisson process. It is often used to model the time between events, such as the time between arrivals of customers at a store or the time between earthquakes.\n",
    "Gamma distribution: This is a probability distribution that is used to model continuous positive random variables. It is often used to model the sum of independent exponentially distributed random variables.\n",
    "Student's t-distribution: This is a probability distribution that is used when the sample size is small and the population standard deviation is unknown. It is often used in hypothesis testing when the sample size is small.\n",
    "Chi-squared distribution: This is a probability distribution that is used to test the independence of two categorical variables. It is often used in hypothesis testing to compare the observed frequencies to the expected frequencies."
   ]
  },
  {
   "cell_type": "markdown",
   "id": "aae376a4-fd9b-45ba-af92-84fd73145fe7",
   "metadata": {},
   "source": [
    "Q3"
   ]
  },
  {
   "cell_type": "code",
   "execution_count": 3,
   "id": "844afa4e-c7aa-4ca7-9d0a-83df8d0a3506",
   "metadata": {},
   "outputs": [],
   "source": [
    "import scipy.stats as stats\n",
    "\n",
    "def normal_pdf(mean, std_dev, x):\n",
    "    \n",
    "    pdf = stats.norm.pdf(x, loc=mean, scale=std_dev)\n",
    "    return pdf\n"
   ]
  },
  {
   "cell_type": "code",
   "execution_count": 4,
   "id": "adb7f699-03cd-4a66-85a0-64be9d1bb023",
   "metadata": {},
   "outputs": [
    {
     "data": {
      "text/plain": [
       "0.24197072451914337"
      ]
     },
     "execution_count": 4,
     "metadata": {},
     "output_type": "execute_result"
    }
   ],
   "source": [
    ">>> normal_pdf(0, 1, 1)\n",
    "0.24197072451914337\n"
   ]
  },
  {
   "cell_type": "markdown",
   "id": "7c542d02-eb5a-4ab1-bc12-3d215f6019b3",
   "metadata": {},
   "source": [
    "Q4"
   ]
  },
  {
   "cell_type": "markdown",
   "id": "b381982e-fcc5-4f00-83b2-a16c4558419c",
   "metadata": {},
   "source": [
    "The binomial distribution has the following properties:\n",
    "\n",
    "The outcome of each trial is either success or failure.\n",
    "\n",
    "The trials are independent of each other.\n",
    "\n",
    "The probability of success remains the same for each trial.\n",
    "\n",
    "The number of trials is fixed.\n",
    "\n",
    "The random variable of interest is the number of successes.\n",
    "\n",
    "Two examples of events where binomial distribution can be applied are:\n",
    "\n",
    "Flipping a coin: If we flip a fair coin (one with an equal probability of heads or tails) multiple times, we can model the number of heads obtained in a fixed number of trials as a binomial distribution. Here, each trial has two possible outcomes (heads or tails), the trials are independent of each other, the probability of success (getting a heads) is constant across trials, and the number of trials is fixed.\n",
    "Medical trial: A drug company is testing a new drug to treat a particular disease. They conduct a clinical trial with a fixed number of patients and want to determine the probability of a successful outcome. A successful outcome is defined as the patient recovering from the disease. Here, each patient either recovers (success) or does not recover (failure), the patients are independent of each other, the probability of success (recovery) is constant across patients, and the number of patients in the trial is fixed. The number of patients who recover can be modeled as a binomial distribution.\n",
    "\n",
    "\n"
   ]
  },
  {
   "cell_type": "markdown",
   "id": "06d46dc0-38b0-44f2-9506-a0edf9c1e8c7",
   "metadata": {},
   "source": [
    "Q5"
   ]
  },
  {
   "cell_type": "code",
   "execution_count": 11,
   "id": "9e5e3c3e-b1c7-49a7-8cb1-c0e571dca03e",
   "metadata": {},
   "outputs": [
    {
     "data": {
      "image/png": "[encoded data removed]",
      "text/plain": [
       "<Figure size 640x480 with 1 Axes>"
      ]
     },
     "metadata": {},
     "output_type": "display_data"
    }
   ],
   "source": [
    "import numpy as np\n",
    "import matplotlib.pyplot as plt\n",
    "\n",
    "n = 1000 \n",
    "p = 0.4  \n",
    "\n",
    "sample = np.random.binomial(n, p, size=n)\n",
    "\n",
    "plt.hist(sample, bins=20)\n",
    "plt.xlabel('Number of successes')\n",
    "plt.ylabel('Frequency')\n",
    "plt.title('Binomial Distribution (n=1000, p=0.4)')\n",
    "plt.show()\n"
   ]
  },
  {
   "cell_type": "markdown",
   "id": "bc50a66a-41e6-46a2-bf75-71177f16a428",
   "metadata": {},
   "source": [
    "Q6"
   ]
  },
  {
   "cell_type": "code",
   "execution_count": 21,
   "id": "fff11d93-0991-4be3-b5d6-b5976b93990a",
   "metadata": {},
   "outputs": [],
   "source": [
    "from scipy.stats import poisson\n",
    "\n",
    "def poisson_cdf(mu, x):\n",
    "    return poisson.cdf(x, mu)\n"
   ]
  },
  {
   "cell_type": "code",
   "execution_count": 22,
   "id": "cbd63e8b-96fe-4a9a-8966-94a1b489af1f",
   "metadata": {},
   "outputs": [
    {
     "name": "stdout",
     "output_type": "stream",
     "text": [
      "CDF of Poisson(mu=3) at x=5: 0.9161\n"
     ]
    }
   ],
   "source": [
    "# Calculate CDF of a Poisson distribution with mean 3 at x=5\n",
    "mu = 3\n",
    "x = 5\n",
    "cdf = poisson_cdf(mu, x)\n",
    "print(f\"CDF of Poisson(mu={mu}) at x={x}: {cdf:.4f}\")\n"
   ]
  },
  {
   "cell_type": "markdown",
   "id": "07c5666a-dea7-4272-ac83-d6aaaefa4a3f",
   "metadata": {},
   "source": [
    "Q7"
   ]
  },
  {
   "cell_type": "markdown",
   "id": "2059e0b0-2a79-4c10-ba57-6565a8f850e1",
   "metadata": {},
   "source": [
    "he main differences between the binomial distribution and Poisson distribution are:\n",
    "\n",
    "The binomial distribution models the number of successes in a fixed number of independent trials, each with the same probability of success, while the Poisson distribution models the number of rare events that occur in a fixed amount of time or space.\n",
    "\n",
    "The binomial distribution has two parameters: the number of trials and the probability of success, while the Poisson distribution has only one parameter: the mean number of events in a fixed amount of time or space.\n",
    "\n",
    "The binomial distribution is discrete, meaning that it only takes integer values, while the Poisson distribution is also discrete but can take non-negative integer values.\n",
    "\n",
    "The binomial distribution is bounded, meaning that the possible values are limited by the number of trials, while the Poisson distribution is unbounded and can take any non-negative integer value.\n",
    "\n",
    "In summary, the binomial distribution is used when we have a fixed number of independent trials with a binary outcome (success/failure) and we want to model the probability of a certain number of successes, while the Poisson distribution is used when we want to model the probability of rare events occurring in a fixed amount of time or space."
   ]
  },
  {
   "cell_type": "markdown",
   "id": "030598ee-7f6f-4bf7-bbcf-7a783da75f3b",
   "metadata": {},
   "source": [
    "Q8"
   ]
  },
  {
   "cell_type": "code",
   "execution_count": 24,
   "id": "0fdcb2c7-0168-4729-a848-fbef06009e07",
   "metadata": {},
   "outputs": [
    {
     "name": "stdout",
     "output_type": "stream",
     "text": [
      "Sample mean: 4.919\n",
      "Sample variance: 5.030439\n"
     ]
    }
   ],
   "source": [
    "import numpy as np\n",
    "np.random.seed(123)\n",
    "sample = np.random.poisson(5, size=1000)\n",
    "\n",
    "sample_mean = np.mean(sample)\n",
    "sample_variance = np.var(sample)\n",
    "\n",
    "# Print the results\n",
    "print(\"Sample mean:\", sample_mean)\n",
    "print(\"Sample variance:\", sample_variance)\n"
   ]
  },
  {
   "cell_type": "markdown",
   "id": "a4436afe-3270-44e7-8ff7-c9c31aa3ea51",
   "metadata": {},
   "source": [
    "Q9"
   ]
  },
  {
   "cell_type": "markdown",
   "id": "8bcf1115-2947-4c96-a500-9519aad6daac",
   "metadata": {},
   "source": [
    "In a Binomial distribution, the mean is equal to the product of the number of trials and the probability of success, i.e., μ = np, where n is the number of trials and p is the probability of success. The variance is equal to the product of the number of trials, the probability of success, and the probability of failure, i.e., σ^2 = np(1-p).\n",
    "\n",
    "In a Poisson distribution, the mean is equal to the rate parameter λ, which is also equal to the variance, i.e., μ = σ^2 = λ.\n",
    "\n",
    "Therefore, in both Binomial and Poisson distributions, the variance is related to the mean, but the exact relationship is different. In the Binomial distribution, the variance increases as the probability of success gets closer to 0 or 1, while in the Poisson distribution, the variance is always equal to the mean.\n",
    "\n",
    "\n"
   ]
  },
  {
   "cell_type": "markdown",
   "id": "f248423c-0cc8-497d-bc52-8cce08e2db88",
   "metadata": {},
   "source": [
    "Q10"
   ]
  },
  {
   "cell_type": "markdown",
   "id": "545e1fd6-d9d1-4836-9e0e-3b33dd39590c",
   "metadata": {},
   "source": [
    "In a normal distribution, the least frequent data appears in the tails of the distribution, which are the areas furthest away from the mean. This is because the normal distribution is symmetric about the mean, so the probability of observing data that is very far away from the mean (i.e., in the tails) is relatively low. Therefore, the data in the tails are less frequent compared to the data closer to the mean.\n",
    "\n",
    "\n"
   ]
  },
  {
   "cell_type": "code",
   "execution_count": null,
   "id": "328b66e8-3cf9-4cfc-9923-4fc9c76867a2",
   "metadata": {},
   "outputs": [],
   "source": []
  }
 ],
 "metadata": {
  "kernelspec": {
   "display_name": "Python 3 (ipykernel)",
   "language": "python",
   "name": "python3"
  },
  "language_info": {
   "codemirror_mode": {
    "name": "ipython",
    "version": 3
   },
   "file_extension": ".py",
   "mimetype": "text/x-python",
   "name": "python",
   "nbconvert_exporter": "python",
   "pygments_lexer": "ipython3",
   "version": "3.10.8"
  }
 },
 "nbformat": 4,
 "nbformat_minor": 5
}
